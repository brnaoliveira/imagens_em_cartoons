{
 "cells": [
  {
   "cell_type": "code",
   "execution_count": 1,
   "id": "7b3ed802",
   "metadata": {
    "scrolled": true
   },
   "outputs": [],
   "source": [
    "from cv2 import cv2\n",
    "import numpy as np"
   ]
  },
  {
   "cell_type": "code",
   "execution_count": 2,
   "id": "c3de5534",
   "metadata": {},
   "outputs": [],
   "source": [
    "#carregar imagem\n",
    "img = cv2.imread(r\"eu.png\")\n"
   ]
  },
  {
   "cell_type": "code",
   "execution_count": 3,
   "id": "c535023c",
   "metadata": {},
   "outputs": [],
   "source": [
    "#passar os parametros para o lib\n",
    "\n",
    "gray = cv2.cvtColor(img,cv2.COLOR_BGR2GRAY)\n",
    "gray = cv2.medianBlur(gray, 5)\n",
    "edges = cv2.adaptiveThreshold(gray, 255, cv2.ADAPTIVE_THRESH_MEAN_C, cv2.THRESH_BINARY, 9, 9)"
   ]
  },
  {
   "cell_type": "code",
   "execution_count": 4,
   "id": "6ec0baf2",
   "metadata": {},
   "outputs": [],
   "source": [
    "#cartoonização da img\n",
    "\n",
    "color = cv2.bilateralFilter(img, 9, 250, 250)\n",
    "cartoon = cv2.bitwise_and(color, color, mask= edges)"
   ]
  },
  {
   "cell_type": "code",
   "execution_count": null,
   "id": "28436231",
   "metadata": {},
   "outputs": [],
   "source": [
    "#mostra img\n",
    "cv2.imshow(\"imagem\", img)\n",
    "cv2.imshow(\"edges\", edges)\n",
    "cv2.imshow(\"cartoon\", cartoon)\n",
    "cv2.waitKey(0) #ver a img estática --> cv2.waitKey(1): apresenta a img por 1 ms\n",
    "cv2.destroyAllWindows() # permite que os usuários destruam todas as janelas a qualquer momento"
   ]
  },
  {
   "cell_type": "code",
   "execution_count": null,
   "id": "1305f903",
   "metadata": {},
   "outputs": [],
   "source": []
  }
 ],
 "metadata": {
  "kernelspec": {
   "display_name": "Python 3 (ipykernel)",
   "language": "python",
   "name": "python3"
  },
  "language_info": {
   "codemirror_mode": {
    "name": "ipython",
    "version": 3
   },
   "file_extension": ".py",
   "mimetype": "text/x-python",
   "name": "python",
   "nbconvert_exporter": "python",
   "pygments_lexer": "ipython3",
   "version": "3.7.3"
  }
 },
 "nbformat": 4,
 "nbformat_minor": 5
}
